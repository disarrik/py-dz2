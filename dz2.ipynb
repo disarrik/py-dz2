{
 "cells": [
  {
   "cell_type": "code",
   "execution_count": 1,
   "id": "1d2407b8",
   "metadata": {},
   "outputs": [],
   "source": [
    "from datetime import datetime "
   ]
  },
  {
   "cell_type": "code",
   "execution_count": 9,
   "id": "1bf775d9",
   "metadata": {},
   "outputs": [
    {
     "name": "stdout",
     "output_type": "stream",
     "text": [
      "2002-10-02 00:00:00\n",
      "2013-10-11 00:00:00\n",
      "1977-08-18 00:00:00\n"
     ]
    }
   ],
   "source": [
    "formats = [\n",
    "    '%A, %B %d, %Y',\n",
    "    '%A, %d.%m.%y',\n",
    "    '%A, %d %B %Y',\n",
    "]\n",
    "\n",
    "def parse_any_format(t):\n",
    "    for format in formats:\n",
    "        try: \n",
    "            return datetime.strptime(t.strip(), format)\n",
    "        except ValueError:\n",
    "            continue\n",
    "\n",
    "\n",
    "with open('papers.txt', 'r') as f:\n",
    "    for line in f:\n",
    "        split = line.split(' - ')\n",
    "        title = split[0]\n",
    "        t = parse_any_format(split[1])\n",
    "        print(t)"
   ]
  }
 ],
 "metadata": {
  "kernelspec": {
   "display_name": "Python 3 (ipykernel)",
   "language": "python",
   "name": "python3"
  },
  "language_info": {
   "codemirror_mode": {
    "name": "ipython",
    "version": 3
   },
   "file_extension": ".py",
   "mimetype": "text/x-python",
   "name": "python",
   "nbconvert_exporter": "python",
   "pygments_lexer": "ipython3",
   "version": "3.12.4"
  }
 },
 "nbformat": 4,
 "nbformat_minor": 5
}
